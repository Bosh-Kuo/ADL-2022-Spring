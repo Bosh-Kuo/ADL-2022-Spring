{
 "cells": [
  {
   "cell_type": "code",
   "execution_count": 5,
   "metadata": {},
   "outputs": [
    {
     "name": "stdout",
     "output_type": "stream",
     "text": [
      "<class 'list'>\n",
      "Num of paragraph: 9013\n",
      "Num of training data: 21714\n",
      "Num of validation data: 3009\n",
      "Num of testing data: 2213\n",
      "Max paragraph length: 1765\n",
      "Max training data question length: 222\n",
      "Max validation data question length: 63\n",
      "Max testing data question length: 81\n",
      "Max training data answer length: 118\n",
      "Max validation data answer length: 63\n"
     ]
    }
   ],
   "source": [
    "import json\n",
    "from pathlib import Path\n",
    "\n",
    "# load data\n",
    "context_dir = Path(\"./data/context.json\")\n",
    "train_dir = Path(\"./data/train.json\")\n",
    "valid_dir = Path(\"./data/valid.json\")\n",
    "test_dir = Path(\"./data/test.json\")\n",
    "paragraphs = json.loads(context_dir.read_text())\n",
    "train_data = json.loads(train_dir.read_text())\n",
    "valid_data = json.loads(valid_dir.read_text())\n",
    "test_data = json.loads(test_dir.read_text())\n",
    "\n",
    "print(type(paragraphs))\n",
    "paragraphs_maxLen = max([len(paragraph) for paragraph in paragraphs])\n",
    "train_question_maxLen = max([len(data[\"question\"]) for data in train_data])\n",
    "valid_question_maxLen = max([len(data[\"question\"]) for data in valid_data])\n",
    "test_question_maxLen = max([len(data[\"question\"]) for data in test_data])\n",
    "train_answer_maxLen = max([len(data[\"answer\"][\"text\"]) for data in train_data])\n",
    "valid_answer_maxLen = max([len(data[\"answer\"][\"text\"]) for data in valid_data])\n",
    "\n",
    "print(f\"Num of paragraph: {len(paragraphs)}\")\n",
    "print(f\"Num of training data: {len(train_data)}\")\n",
    "print(f\"Num of validation data: {len(valid_data)}\")\n",
    "print(f\"Num of testing data: {len(test_data)}\")\n",
    "print(f\"Max paragraph length: {paragraphs_maxLen}\")\n",
    "print(f\"Max training data question length: {train_question_maxLen}\")\n",
    "print(f\"Max validation data question length: {valid_question_maxLen}\")\n",
    "print(f\"Max testing data question length: {test_question_maxLen}\")\n",
    "print(f\"Max training data answer length: {train_answer_maxLen}\")\n",
    "print(f\"Max validation data answer length: {valid_answer_maxLen}\")"
   ]
  },
  {
   "cell_type": "code",
   "execution_count": 6,
   "metadata": {},
   "outputs": [],
   "source": [
    "import json\n",
    "import os\n",
    "import sys\n",
    "\n",
    "with open(\"./data/train.json\", 'r') as f:\n",
    "    data = json.load(f)\n",
    "\n",
    "os.makedirs(os.path.dirname(\"./data/train3.json\"), exist_ok=True)\n",
    "json.dump({'data': data}, open(\"./data/train3.json\", 'w',encoding='utf-8'), indent=2, ensure_ascii=False)"
   ]
  },
  {
   "cell_type": "code",
   "execution_count": 27,
   "metadata": {},
   "outputs": [
    {
     "data": {
      "text/plain": [
       "['鼓是一種打擊樂器，也是一種通訊工具，非洲某些部落用以傳達信息，中國古代軍隊用以發號施令。堅固的女的一面或雙面蒙上拉緊的膜。鼓可以用手或鼓杵敲擊出聲。鼓在非洲的傳統音樂以及在現代音樂中是一種比較重要的樂器，有的樂隊完全由以鼓為主的打擊樂器組成。鼓除了作為樂器外，在古代許多文明中還用鼓來傳播信息。不同類型的鼓，如定音鼓等，均被調校至特定的音調中。更常見的是將不同類型的鼓或打擊樂器互相組合，以構成常於流行音樂出現的爵士鼓。鼓的演奏一般是用手敲擊鼓面，或是用一二隻鼓棒或鼓錘敲擊。由於鼓的觸覺特性及其易於使用，在音樂治療中常用到鼓，特別是手鼓。在許多傳統文化中，鼓有其象徵的意義，也常用在宗教儀式中。像在蒲隆地的卡央達鼓是王權的象徵，卡央達鼓也出現在1962至1966年間的蒲隆地國旗中。在流行音樂或爵士樂中，鼓常常是指由一組鼓及銅鈸組成的爵士鼓，演奏者稱為鼓手。鼓幾乎都有一個圓形的開口，鼓面拉緊後可以固定在上面。但鼓身的形狀就有很多的變化，西洋樂器的鼓，鼓身多半都是圓柱體，但定音鼓的鼓身則是碗形，有些鼓的鼓身則是截角圓錐或是二個接合的截角圓錐。中國、日本、韓國的鼓常常是中間略寬、上下略窄的圓柱體。最早的鼓是出現於西元前六千年的兩河文明。',\n",
       " '這次出售的贖罪券很特別，是全大赦贖罪券，可以贖買過去所犯的罪攢下來的所有刑罰，將購買者重新恢復到好像初生嬰兒的純潔狀態。一般的贖罪券只能贖買一定年數的煉獄受刑，這麼無限制特效的贖罪券是很罕見的，立刻轟動各地。出售贖罪券伴隨著很大規模的「促銷活動」，有專門的出售特使到各地去，舉辦遊行、演講，一時搞得轟轟烈烈。路德所在的薩克森地區其實是沒有出售這種贖罪券的，因為贖罪券的出售需要當地領主的同意，這中間往往有很多的政治鬥爭，而薩克森的腓特烈親王不許，以保護當地教堂的與聖物相關的贖罪券，但也有人去鄰區購買，可見其盛況。',\n",
       " '處在千年古都的西安交大校園少不了和歷史千絲萬縷的聯繫。興慶校區所處位置為唐長安城內的道政、常樂兩里坊，北邊的道政坊曾經是興慶宮勤政務本樓的廣場，是唐玄宗時期舉行盛大慶祝和外事活動的場所，目前這裡大致為西安交大教學區。南邊常樂坊大致分布學校生活區，這裡的遺蹟繁多，最有名的當屬白居易在長安城的住所，相國關播曾經的宅院「東亭」。白居易曾在此借相國種下的竹林寫過一篇《養竹記》，如今鐫刻在交大校內東亭遺址處新栽種的竹林中。校內東亭遺址東南處為白居易《琵琶行》中琵琶女所稱的蛤蟆陵所在處，曾出產長安三大名酒中的兩種郎官清和阿婆清，現為交大東區溫泉浴室。蛤蟆陵以南為唐高祖長女長沙公主和唐肅宗三女和政公主的住處。1963年交大宿舍施工時曾在此出土15件精美的金銀器物。除此之外位於今天交大校址的遺蹟還有西漢著名思想家董仲舒、北周隋唐「三朝國丈」獨孤信、唐太宗貞觀年間名將、吏部尚書侯君集、唐高宗宰相張行成、發動安史之亂的安祿山等歷史名人的故居、寺廟或陵寢的遺址，是西安地區考古遺蹟最密集地區之一，可謂人傑地靈。']"
      ]
     },
     "execution_count": 27,
     "metadata": {},
     "output_type": "execute_result"
    }
   ],
   "source": [
    "paragraphs[:3]"
   ]
  },
  {
   "cell_type": "code",
   "execution_count": 25,
   "metadata": {},
   "outputs": [
    {
     "data": {
      "text/plain": [
       "[{'id': '593f14f960d971e294af884f0194b3a7',\n",
       "  'question': '舍本和誰的數據能推算出連星的恆星的質量？',\n",
       "  'paragraphs': [2018, 6952, 8264, 836],\n",
       "  'relevant': 836,\n",
       "  'answer': {'text': '斯特魯維', 'start': 108}},\n",
       " {'id': 'acd5d763ec4c250f9a11eac1412d6814',\n",
       "  'question': '在關西鎮以什麼方言為主？',\n",
       "  'paragraphs': [1716, 8318, 4070, 7571],\n",
       "  'relevant': 8318,\n",
       "  'answer': {'text': '四縣腔客家話', 'start': 306}},\n",
       " {'id': '5670000714a658c5e52658e22e6985f7',\n",
       "  'question': '「有錫兵，天下爭。無錫寧，天下清。」指的是何人攻破蘭陵後，率軍駐無錫錫山時的上書?',\n",
       "  'paragraphs': [6043, 5950, 2548, 5806],\n",
       "  'relevant': 5806,\n",
       "  'answer': {'text': '王翦', 'start': 46}}]"
      ]
     },
     "execution_count": 25,
     "metadata": {},
     "output_type": "execute_result"
    }
   ],
   "source": [
    "train_data[:3]"
   ]
  },
  {
   "cell_type": "code",
   "execution_count": 28,
   "metadata": {},
   "outputs": [
    {
     "data": {
      "text/plain": [
       "[{'id': '5e7a923dd6e4ccb8730eb95230e0c908',\n",
       "  'question': '卡利創立的網際網路檔案館要到什麼時後才開放存取？',\n",
       "  'paragraphs': [8912, 7873, 8209, 7497]},\n",
       " {'id': 'a2e9cd802197b8f8dfbe235e2761f9ed',\n",
       "  'question': '哪個國家在歐洲具有重要的戰略意義甚至遠超過了其自身價值?',\n",
       "  'paragraphs': [744, 2457, 7423, 2674]},\n",
       " {'id': 'c7c8a85b3f0006d44d86510a22193620',\n",
       "  'question': '目前所知「義和拳」這一個名詞最早於哪一年時出現?',\n",
       "  'paragraphs': [7393, 7497, 1015, 2305]}]"
      ]
     },
     "execution_count": 28,
     "metadata": {},
     "output_type": "execute_result"
    }
   ],
   "source": [
    "test_data[:3]"
   ]
  },
  {
   "cell_type": "markdown",
   "metadata": {},
   "source": [
    "## Plot EM/loss curve"
   ]
  },
  {
   "cell_type": "code",
   "execution_count": 2,
   "metadata": {},
   "outputs": [],
   "source": [
    "import numpy as np\n",
    "import matplotlib.pyplot as plt\n",
    "eval_EM = np.load(\"./qa_roberta/eval_EM.npy\")\n",
    "eval_loss = 100 - eval_EM\n"
   ]
  },
  {
   "cell_type": "code",
   "execution_count": 3,
   "metadata": {},
   "outputs": [
    {
     "data": {
      "text/plain": [
       "[<matplotlib.lines.Line2D at 0x7f4aadf76700>]"
      ]
     },
     "execution_count": 3,
     "metadata": {},
     "output_type": "execute_result"
    },
    {
     "data": {
      "image/png": "[encoded data removed]",
      "text/plain": [
       "<Figure size 432x288 with 1 Axes>"
      ]
     },
     "metadata": {
      "needs_background": "light"
     },
     "output_type": "display_data"
    }
   ],
   "source": [
    "plt.title('eval-EM')\n",
    "plt.xlabel('epoch')\n",
    "plt.ylabel('EM')\n",
    "plt.grid(True)\n",
    "plt.plot(np.arange(eval_EM.shape[0]), eval_EM)"
   ]
  },
  {
   "cell_type": "code",
   "execution_count": null,
   "metadata": {},
   "outputs": [],
   "source": []
  }
 ],
 "metadata": {
  "interpreter": {
   "hash": "aaed0f13cab955ee754a66aa5a48de1ce31e05bf25215437ce503315f7004fd6"
  },
  "kernelspec": {
   "display_name": "Python 3.8.12 ('adl')",
   "language": "python",
   "name": "python3"
  },
  "language_info": {
   "codemirror_mode": {
    "name": "ipython",
    "version": 3
   },
   "file_extension": ".py",
   "mimetype": "text/x-python",
   "name": "python",
   "nbconvert_exporter": "python",
   "pygments_lexer": "ipython3",
   "version": "3.9.7"
  },
  "orig_nbformat": 4
 },
 "nbformat": 4,
 "nbformat_minor": 2
}
