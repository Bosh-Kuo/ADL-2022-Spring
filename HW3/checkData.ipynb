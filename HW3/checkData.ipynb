{
 "cells": [
  {
   "cell_type": "code",
   "execution_count": 2,
   "metadata": {},
   "outputs": [
    {
     "name": "stdout",
     "output_type": "stream",
     "text": [
      "-----train data-----\n",
      "max title length: 105\n",
      "max maintext length: 30435\n",
      "-----public data-----\n",
      "max title length: 85\n",
      "max maintext length: 11945\n"
     ]
    }
   ],
   "source": [
    "import jsonlines\n",
    "import os\n",
    "\n",
    "train_dir = \"./data/train.jsonl\"\n",
    "public_dir = \"./data/public.jsonl\"\n",
    "\n",
    "max_title_len = 0\n",
    "max_maintext_len = 0\n",
    "\n",
    "with jsonlines.open(train_dir) as reader:\n",
    "    for obj in reader:\n",
    "        if (len(obj[\"title\"]) > max_title_len):\n",
    "            max_title_len = len(obj[\"title\"])\n",
    "        if (len(obj[\"maintext\"]) > max_maintext_len):\n",
    "            max_maintext_len = len(obj[\"maintext\"])\n",
    "    print(\"-----train data-----\")\n",
    "    print(f\"max title length: {max_title_len}\")\n",
    "    print(f\"max maintext length: {max_maintext_len}\")\n",
    "\n",
    "max_title_len = 0\n",
    "max_maintext_len = 0\n",
    "with jsonlines.open(public_dir) as reader:\n",
    "    for obj in reader:\n",
    "        if (len(obj[\"title\"]) > max_title_len):\n",
    "            max_title_len = len(obj[\"title\"])\n",
    "        if (len(obj[\"maintext\"]) > max_maintext_len):\n",
    "            max_maintext_len = len(obj[\"maintext\"])\n",
    "    print(\"-----public data-----\")\n",
    "    print(f\"max title length: {max_title_len}\")\n",
    "    print(f\"max maintext length: {max_maintext_len}\")"
   ]
  },
  {
   "cell_type": "code",
   "execution_count": null,
   "metadata": {},
   "outputs": [],
   "source": []
  }
 ],
 "metadata": {
  "interpreter": {
   "hash": "aaed0f13cab955ee754a66aa5a48de1ce31e05bf25215437ce503315f7004fd6"
  },
  "kernelspec": {
   "display_name": "Python 3.8.12 ('adl')",
   "language": "python",
   "name": "python3"
  },
  "language_info": {
   "codemirror_mode": {
    "name": "ipython",
    "version": 3
   },
   "file_extension": ".py",
   "mimetype": "text/x-python",
   "name": "python",
   "nbconvert_exporter": "python",
   "pygments_lexer": "ipython3",
   "version": "3.8.12"
  },
  "orig_nbformat": 4
 },
 "nbformat": 4,
 "nbformat_minor": 2
}
